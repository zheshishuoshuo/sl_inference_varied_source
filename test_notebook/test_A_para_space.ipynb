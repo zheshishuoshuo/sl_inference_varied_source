{
 "cells": [
  {
   "cell_type": "code",
   "execution_count": 2,
   "id": "98cf144d",
   "metadata": {},
   "outputs": [
    {
     "name": "stderr",
     "output_type": "stream",
     "text": [
      "100%|██████████| 10000/10000 [00:33<00:00, 302.73it/s]"
     ]
    },
    {
     "name": "stdout",
     "output_type": "stream",
     "text": [
      "[INFO] 可观测透镜比例：0.3628（共 10000 个样本中 3628 个）\n"
     ]
    },
    {
     "name": "stderr",
     "output_type": "stream",
     "text": [
      "\n"
     ]
    }
   ],
   "source": [
    "import sys\n",
    "sys.path.append(\"../../\")  \n",
    "import numpy as np\n",
    "import pandas as pd\n",
    "from tqdm import tqdm\n",
    "from sl_inference_varied_source.mock_generator.lens_model import LensModel\n",
    "from sl_inference_varied_source.mock_generator.lens_properties import lens_properties\n",
    "# from ..mock_generator.mass_sampler import MODEL_PARAMS, sample_m_s\n",
    "from sl_inference_varied_source.mock_generator.mass_sampler import sample_m_s\n",
    "# === 参数设定 ===\n",
    "n_samples = 10000\n",
    "seed = 42\n",
    "mu_DM = 13.0\n",
    "sigma_DM = 0.2\n",
    "n_sigma = 3\n",
    "alpha_s = -1.3\n",
    "m_s_star = 24.5\n",
    "\n",
    "zl, zs = 0.3, 2.0\n",
    "maximum_magnitude = 26.5  # 检出限制\n",
    "OBS_SCATTER_MAG = 0.1     # 源星等噪声\n",
    "OBS_SCATTER_STAR = 0.1    # logM_sps 噪声\n",
    "\n",
    "# === 随机采样五维参数空间 ===\n",
    "rng = np.random.default_rng(seed)\n",
    "logMstar = rng.normal(11.4, 0.3, n_samples)\n",
    "logRe = rng.normal(1 + 0.8 * (logMstar - 11.4), 0.15, n_samples)\n",
    "Mh_min = mu_DM - n_sigma * sigma_DM\n",
    "Mh_max = mu_DM + n_sigma * sigma_DM\n",
    "logMh = rng.uniform(Mh_min, Mh_max, n_samples)\n",
    "beta = rng.uniform(0.0, 1.0, n_samples)\n",
    "m_s = sample_m_s(alpha_s, m_s_star, size=n_samples, rng=rng)\n",
    "\n",
    "# === 遍历样本，判断是否为 lens ===\n",
    "num_lensed = 0\n",
    "\n",
    "for i in tqdm(range(n_samples)):\n",
    "    model = LensModel(\n",
    "        logM_star=logMstar[i],\n",
    "        logM_halo=logMh[i],\n",
    "        logRe=logRe[i],\n",
    "        zl=zl,\n",
    "        zs=zs\n",
    "    )\n",
    "    props = lens_properties(model, beta[i])\n",
    "\n",
    "    muA, muB = props['magnificationA'], props['magnificationB']\n",
    "    magA = m_s[i] - 2.5 * np.log10(muA) + rng.normal(0.0, OBS_SCATTER_MAG)\n",
    "    magB = m_s[i] - 2.5 * np.log10(muB) + rng.normal(0.0, OBS_SCATTER_MAG)\n",
    "\n",
    "    if magA < maximum_magnitude and magB < maximum_magnitude:\n",
    "        num_lensed += 1\n",
    "\n",
    "# === 输出结果 ===\n",
    "frac_lensed = num_lensed / n_samples\n",
    "print(f\"[INFO] 可观测透镜比例：{frac_lensed:.4f}（共 {n_samples} 个样本中 {num_lensed} 个）\")\n"
   ]
  },
  {
   "cell_type": "code",
   "execution_count": null,
   "id": "46b38544",
   "metadata": {},
   "outputs": [],
   "source": []
  }
 ],
 "metadata": {
  "kernelspec": {
   "display_name": "base",
   "language": "python",
   "name": "python3"
  },
  "language_info": {
   "codemirror_mode": {
    "name": "ipython",
    "version": 3
   },
   "file_extension": ".py",
   "mimetype": "text/x-python",
   "name": "python",
   "nbconvert_exporter": "python",
   "pygments_lexer": "ipython3",
   "version": "3.12.2"
  }
 },
 "nbformat": 4,
 "nbformat_minor": 5
}
